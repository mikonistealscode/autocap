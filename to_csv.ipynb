{
 "cells": [
  {
   "cell_type": "code",
   "execution_count": 1,
   "metadata": {},
   "outputs": [
    {
     "name": "stdout",
     "output_type": "stream",
     "text": [
      "hello\n"
     ]
    }
   ],
   "source": [
    "print(\"hello\")"
   ]
  },
  {
   "cell_type": "code",
   "execution_count": null,
   "metadata": {},
   "outputs": [],
   "source": [
    "import json\n",
    "import csv\n",
    "from pathlib import Path\n",
    "\n",
    "# Paths\n",
    "ANNOTATION_FILE = 'annotations/person_keypoints_train2017.json'\n",
    "IMAGE_DIR = 'train2017'\n",
    "CSV_OUT = 'coco_keypoints_train.csv'\n",
    "\n",
    "# Load JSON\n",
    "with open(ANNOTATION_FILE, 'r') as f:\n",
    "    coco = json.load(f)\n",
    "\n",
    "# Build image_id → (filename, w, h) lookup\n",
    "id_to_file = {img['id']: (img['file_name'], img['width'], img['height']) for img in coco['images']}\n",
    "\n",
    "# Open CSV writer\n",
    "with open(CSV_OUT, 'w', newline='') as f:\n",
    "    writer = csv.writer(f)\n",
    "    \n",
    "    # Write header\n",
    "    header = ['image_path'] + [f'x{i+1}' for i in range(17)] + [f'y{i+1}' for i in range(17)] + ['width', 'height']\n",
    "    writer.writerow(header)\n",
    "    \n",
    "    \"\"\"\n",
    "    #for full dataset -----------------------\n",
    "    # Loop over annotations\n",
    "    for ann in coco['annotations']:\n",
    "        if ann['num_keypoints'] < 5:\n",
    "            continue  # Skip incomplete labels\n",
    "\n",
    "        image_id = ann['image_id']\n",
    "        keypoints = ann['keypoints']  # length 51\n",
    "\n",
    "        filename, width, height = id_to_file[image_id]\n",
    "        image_path = f\"{IMAGE_DIR}/{filename}\"\n",
    "\n",
    "        xs = [keypoints[i] for i in range(0, len(keypoints), 3)]\n",
    "        ys = [keypoints[i+1] for i in range(0, len(keypoints), 3)]\n",
    "\n",
    "        row = [image_path] + xs + ys + [width, height]\n",
    "        writer.writerow(row)\n",
    "    \"\"\"\n",
    "\n",
    "    # for subset = 1000\n",
    "    # max_rows = 56599\n",
    "    max_rows = 10000\n",
    "    written = 0\n",
    "\n",
    "    for ann in coco['annotations']:\n",
    "        if written >= max_rows:\n",
    "            break  # stop writing after 1000 rows\n",
    "\n",
    "        if ann['num_keypoints'] < 5:\n",
    "            continue  # skip if insufficient joints\n",
    "\n",
    "        image_id = ann['image_id']\n",
    "        keypoints = ann['keypoints']\n",
    "        filename, width, height = id_to_file[image_id]\n",
    "\n",
    "        xs = [keypoints[i] for i in range(0, len(keypoints), 3)]\n",
    "        ys = [keypoints[i+1] for i in range(0, len(keypoints), 3)]\n",
    "\n",
    "        # row = [f\"{IMAGE_DIR}/{filename}\"] + xs + ys + [width, height]\n",
    "        row = [f\"{filename}\"] + xs + ys + [width, height]\n",
    "        writer.writerow(row)\n",
    "        written += 1   \n"
   ]
  },
  {
   "cell_type": "code",
   "execution_count": null,
   "metadata": {},
   "outputs": [],
   "source": []
  }
 ],
 "metadata": {
  "kernelspec": {
   "display_name": "Python 3.7.3 64-bit",
   "language": "python",
   "name": "python3"
  },
  "language_info": {
   "codemirror_mode": {
    "name": "ipython",
    "version": 3
   },
   "file_extension": ".py",
   "mimetype": "text/x-python",
   "name": "python",
   "nbconvert_exporter": "python",
   "pygments_lexer": "ipython3",
   "version": "3.7.3"
  },
  "orig_nbformat": 4,
  "vscode": {
   "interpreter": {
    "hash": "27fe730aacf54c94d2a9a90dbb8c565d4eb7edb3028ffc9796f341a1a5747eba"
   }
  }
 },
 "nbformat": 4,
 "nbformat_minor": 2
}
